{
  "nbformat": 4,
  "nbformat_minor": 0,
  "metadata": {
    "colab": {
      "name": "ML_Niklas.ipynb",
      "provenance": [],
      "collapsed_sections": [],
      "include_colab_link": true
    },
    "kernelspec": {
      "name": "python3",
      "display_name": "Python 3"
    },
    "language_info": {
      "name": "python"
    }
  },
  "cells": [
    {
      "cell_type": "markdown",
      "metadata": {
        "id": "view-in-github",
        "colab_type": "text"
      },
      "source": [
        "<a href=\"https://colab.research.google.com/github/NiklasUllmann/NAK_MaschinellesLernen/blob/main/ML_Niklas.ipynb\" target=\"_parent\"><img src=\"https://colab.research.google.com/assets/colab-badge.svg\" alt=\"Open In Colab\"/></a>"
      ]
    },
    {
      "cell_type": "code",
      "source": [
        "# Import Packages:\n",
        "import requests\n",
        "import pandas as pd\n",
        "import numpy as np"
      ],
      "metadata": {
        "id": "4PKmA85QS5bl"
      },
      "execution_count": 50,
      "outputs": []
    },
    {
      "cell_type": "markdown",
      "source": [
        "# Daten laden"
      ],
      "metadata": {
        "id": "F9wg2SIlrFlN"
      }
    },
    {
      "cell_type": "code",
      "execution_count": 51,
      "metadata": {
        "id": "ZLZx1puEcyXc"
      },
      "outputs": [],
      "source": [
        "# Stream Data from online source\n",
        "url = \"https://www.openml.org/data/download/22102431/dataset\"\n",
        "response = requests.get(url, stream=True)\n",
        "\n",
        "# Convert raw download to 2d array\n",
        "data_index = response.text.index('@DATA\\n')\n",
        "raw_data = response.text[data_index + 6:-1]\n",
        "data = [list(map(lambda x: x if x != '?'else np.nan, i.replace(\"'\",\"\").split(\",\"))) for i in raw_data.split(\"\\n\")]\n"
      ]
    },
    {
      "cell_type": "code",
      "source": [
        "# Define Column names and data types\n",
        "column_names =[ \"Stn_Id\",\"Stn_Name\",\"CIMIS_Region\",\"Date\",\"ETo\",\"Precip\",\"Sol_Rad\",\"Avg_Vap_Pres\",\"Max_Air_Temp\",\"Min_Air_Temp\",\"Avg_Air_Temp\",\"Max_Rel_Hum\",\"Min_Rel_Hum\",\"Avg_Rel_Hum\",\"Dew_Point\",\"Avg_Wind_Speed\",\"Wind_Run\",\"Avg_Soil_Temp\",\"Target\"]\n",
        "\n",
        "column_dtypes = {\"Target\": int, \"Stn_Id\": int, \"Stn_Name\": str,\"CIMIS_Region\": str, \"Date\": np.datetime64, \"ETo\":float, \"Precip\":float, \"Sol_Rad\":float, \"Avg_Vap_Pres\":float, \"Max_Air_Temp\":float, \"Min_Air_Temp\":float, \"Avg_Air_Temp\":float, \"Max_Rel_Hum\":float, \"Min_Rel_Hum\":float, \"Avg_Rel_Hum\":float, \"Dew_Point\":float,\"Avg_Wind_Speed\":float,\"Wind_Run\":float,\"Avg_Soil_Temp\":float    }\n",
        "\n"
      ],
      "metadata": {
        "id": "5gT2PTJzVbne"
      },
      "execution_count": 52,
      "outputs": []
    },
    {
      "cell_type": "code",
      "source": [
        "# Create final Dataframe and convert columns to datatypes\n",
        "df = pd.DataFrame(data, columns = column_names)\n",
        "df = df.astype(column_dtypes)\n",
        "\n"
      ],
      "metadata": {
        "colab": {
          "base_uri": "https://localhost:8080/"
        },
        "id": "RhsodeIrLWIi",
        "outputId": "4b6bf6c5-a290-4d42-fad1-4871d9c9378f"
      },
      "execution_count": 53,
      "outputs": [
        {
          "output_type": "execute_result",
          "data": {
            "text/plain": [
              "138"
            ]
          },
          "metadata": {},
          "execution_count": 53
        }
      ]
    },
    {
      "cell_type": "markdown",
      "source": [
        "# Hier beginnt dann der Spaß 🔥\n"
      ],
      "metadata": {
        "id": "9sPiwhb50hf-"
      }
    }
  ]
}